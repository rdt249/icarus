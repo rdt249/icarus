{
 "cells": [
  {
   "cell_type": "markdown",
   "id": "96cc9b6d",
   "metadata": {},
   "source": [
    "![drawing](https://images.vexels.com/media/users/3/126635/isolated/preview/87fabfeab4b01aa3d5338bf1c0c67fe6-2-open-logo-wings-02-by-vexels.png)"
   ]
  },
  {
   "cell_type": "code",
   "execution_count": 1,
   "id": "5962a866",
   "metadata": {
    "scrolled": false
   },
   "outputs": [
    {
     "name": "stdout",
     "output_type": "stream",
     "text": [
      "mode 1 (ignore switch)\n",
      "Timestamp(s)\tPressure(Pa)\tAltitude(m)\tTempBaro(C)\tHumidity(%)\tTempHygro(C)\tTempTherm(C)\tDate(y-m-d)\tTime(h:m:s)\tTimeError(s)\tLatitude(deg)\tLatError(deg)\tLongitide(deg)\tLonError(deg)\tAltitude(m)\tAltError(m)\tClimb(m/s)\tClimbError(m/s)\tTrack(deg)\tTrackError(deg)\tSpeed(m/s)\tSpeedError(m/s)\n",
      "1620403580\t99715.75\t133.68953994048982\t17.9375\t52.416266117341884\t17.696650644693676\t17.625\tNone\tNone\tNone\t35.027116667\tNone\t-85.276691667\tNone\t198.8\tNone\tNone\tNone\tNone\tNone\tNone\tNone\n"
     ]
    },
    {
     "ename": "KeyboardInterrupt",
     "evalue": "",
     "output_type": "error",
     "traceback": [
      "\u001b[0;31m---------------------------------------------------------------------------\u001b[0m",
      "\u001b[0;31mKeyboardInterrupt\u001b[0m                         Traceback (most recent call last)",
      "\u001b[0;32m<ipython-input-1-4520276399a1>\u001b[0m in \u001b[0;36m<module>\u001b[0;34m\u001b[0m\n\u001b[1;32m      1\u001b[0m \u001b[0;32mimport\u001b[0m \u001b[0micarus\u001b[0m\u001b[0;34m\u001b[0m\u001b[0;34m\u001b[0m\u001b[0m\n\u001b[0;32m----> 2\u001b[0;31m \u001b[0micarus\u001b[0m\u001b[0;34m.\u001b[0m\u001b[0mmain\u001b[0m\u001b[0;34m(\u001b[0m\u001b[0mmode\u001b[0m \u001b[0;34m=\u001b[0m \u001b[0;36m1\u001b[0m\u001b[0;34m)\u001b[0m\u001b[0;34m\u001b[0m\u001b[0;34m\u001b[0m\u001b[0m\n\u001b[0m",
      "\u001b[0;32m~/icarus/icarus.py\u001b[0m in \u001b[0;36mmain\u001b[0;34m(mode)\u001b[0m\n\u001b[1;32m    134\u001b[0m             \u001b[0melapsed\u001b[0m \u001b[0;34m=\u001b[0m \u001b[0mtime\u001b[0m\u001b[0;34m.\u001b[0m\u001b[0mtime\u001b[0m\u001b[0;34m(\u001b[0m\u001b[0;34m)\u001b[0m \u001b[0;34m-\u001b[0m \u001b[0mstart\u001b[0m \u001b[0;31m# compute elapsed time\u001b[0m\u001b[0;34m\u001b[0m\u001b[0;34m\u001b[0m\u001b[0m\n\u001b[1;32m    135\u001b[0m             \u001b[0;32mif\u001b[0m \u001b[0melapsed\u001b[0m \u001b[0;34m<\u001b[0m \u001b[0mincrement\u001b[0m\u001b[0;34m:\u001b[0m \u001b[0;31m# if increment not exceeded\u001b[0m\u001b[0;34m\u001b[0m\u001b[0;34m\u001b[0m\u001b[0m\n\u001b[0;32m--> 136\u001b[0;31m                 \u001b[0mtime\u001b[0m\u001b[0;34m.\u001b[0m\u001b[0msleep\u001b[0m\u001b[0;34m(\u001b[0m\u001b[0mincrement\u001b[0m \u001b[0;34m-\u001b[0m \u001b[0melapsed\u001b[0m\u001b[0;34m)\u001b[0m \u001b[0;31m# wait for increment\u001b[0m\u001b[0;34m\u001b[0m\u001b[0;34m\u001b[0m\u001b[0m\n\u001b[0m\u001b[1;32m    137\u001b[0m \u001b[0;34m\u001b[0m\u001b[0m\n\u001b[1;32m    138\u001b[0m \u001b[0;31m# main loop\u001b[0m\u001b[0;34m\u001b[0m\u001b[0;34m\u001b[0m\u001b[0;34m\u001b[0m\u001b[0m\n",
      "\u001b[0;31mKeyboardInterrupt\u001b[0m: "
     ]
    }
   ],
   "source": [
    "import icarus\n",
    "icarus.main(mode = 1)"
   ]
  },
  {
   "cell_type": "code",
   "execution_count": null,
   "id": "04c07f7e",
   "metadata": {},
   "outputs": [],
   "source": []
  }
 ],
 "metadata": {
  "kernelspec": {
   "display_name": "Python 3",
   "language": "python",
   "name": "python3"
  },
  "language_info": {
   "codemirror_mode": {
    "name": "ipython",
    "version": 3
   },
   "file_extension": ".py",
   "mimetype": "text/x-python",
   "name": "python",
   "nbconvert_exporter": "python",
   "pygments_lexer": "ipython3",
   "version": "3.7.3"
  }
 },
 "nbformat": 4,
 "nbformat_minor": 5
}
