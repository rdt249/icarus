{
 "cells": [
  {
   "cell_type": "markdown",
   "id": "96cc9b6d",
   "metadata": {},
   "source": [
    "![drawing](https://images.vexels.com/media/users/3/126635/isolated/preview/87fabfeab4b01aa3d5338bf1c0c67fe6-2-open-logo-wings-02-by-vexels.png)"
   ]
  },
  {
   "cell_type": "code",
   "execution_count": 1,
   "id": "5962a866",
   "metadata": {
    "scrolled": true
   },
   "outputs": [
    {
     "name": "stdout",
     "output_type": "stream",
     "text": [
      "ignoring switch, no images\n",
      "Timestamp(s)\tPressure(Pa)\tAltitude(m)\tTempBaro(C)\tHumidity(%)\tTempHygro(C)\tTempTherm(C)\tDate(y-m-d)\tTime(h:m:s)\tTimeError(s)\tLatitude(deg)\tLatError(deg)\tLongitide(deg)\tLonError(deg)\tAltitude(m)\tAltError(m)\tClimb(m/s)\tClimbError(m/s)\tTrack(deg)\tTrackError(deg)\tSpeed(m/s)\tSpeedError(m/s)\n",
      "1620403085\t99724.25\t132.62702372777906\t17.9375\t51.94171053635463\t17.739375906004426\t17.6875\tNone\tNone\tNone\tNone\tNone\tNone\tNone\tNone\tNone\tNone\tNone\tNone\tNone\tNone\tNone\n",
      "1620403095\t99717.5\t133.25203326466774\t17.9375\t52.00579842832075\t17.710002288853282\t17.6875\t2021-05-07\t15:58:05.000\t0.005\tNone\tNone\tNone\tNone\tNone\tNone\tNone\tNone\tNone\tNone\tNone\tNone\n",
      "1620403105\t99721.5\t133.3145342183566\t17.9375\t51.78912031738766\t17.752727550164032\t17.6875\t2021-05-07\t15:58:06.000\t0.005\tNone\tNone\tNone\tNone\tNone\tNone\tNone\tNone\tNone\tNone\tNone\tNone\n",
      "1620403115\t99715.5\t133.43953612573435\t17.9375\t51.7067215991455\t17.726024261844813\t17.6875\t2021-05-07\t15:58:07.000\t0.005\tNone\tNone\tNone\tNone\tNone\tNone\tNone\tNone\tNone\tNone\tNone\tNone\n",
      "1620403125\t99722.5\t133.68953994048982\t17.875\t51.743343251697574\t17.726024261844813\t17.625\t2021-05-07\t15:58:08.000\t0.005\tNone\tNone\tNone\tNone\tNone\tNone\tNone\tNone\tNone\tNone\tNone\tNone\n",
      "1620403135\t99717.25\t133.7520408941787\t17.875\t51.509880216678106\t17.710002288853282\t17.6875\t2021-05-07\t15:58:09.000\t0.005\tNone\tNone\tNone\tNone\tNone\tNone\tNone\tNone\tNone\tNone\tNone\tNone\n",
      "1620403145\t99712.75\t133.37703517204548\t17.9375\t51.76623178454262\t17.696650644693676\t17.75\t2021-05-07\t15:58:10.000\t0.005\tNone\tNone\tNone\tNone\tNone\tNone\tNone\tNone\tNone\tNone\tNone\tNone\n",
      "1620403155\t99716.75\t133.12703135729\t17.9375\t51.96917677576868\t17.726024261844813\t17.6875\t2021-05-07\t15:58:11.000\t0.005\tNone\tNone\tNone\tNone\tNone\tNone\tNone\tNone\tNone\tNone\tNone\tNone\n",
      "1620403165\t99714.5\t133.43953612573435\t17.9375\t52.05920500495919\t17.726024261844813\t17.625\t2021-05-07\t15:58:12.000\t0.005\tNone\tNone\tNone\tNone\tNone\tNone\tNone\tNone\tNone\tNone\tNone\tNone\n",
      "1620403175\t99721.0\t133.06453040360114\t17.9375\t52.09277485313192\t17.710002288853282\t17.625\t2021-05-07\t15:58:13.000\t0.005\tNone\tNone\tNone\tNone\tNone\tNone\tNone\tNone\tNone\tNone\tNone\tNone\n",
      "1620403185\t99718.25\t133.3145342183566\t17.9375\t52.10040436408027\t17.696650644693676\t17.6875\t2021-05-07\t15:58:14.000\t0.005\tNone\tNone\tNone\tNone\tNone\tNone\tNone\tNone\tNone\tNone\tNone\tNone\n",
      "1620403195\t99718.0\t133.25203326466774\t17.9375\t52.082093537804234\t17.696650644693676\t17.6875\t2021-05-07\t15:58:15.000\t0.005\tNone\tNone\tNone\tNone\tNone\tNone\tNone\tNone\tNone\tNone\tNone\tNone\n",
      "1620403205\t99721.0\t133.37703517204548\t17.9375\t52.037842374303814\t17.726024261844813\t17.625\t2021-05-07\t15:58:16.000\t0.005\tNone\tNone\tNone\tNone\tNone\tNone\tNone\tNone\tNone\tNone\tNone\tNone\n"
     ]
    },
    {
     "ename": "KeyboardInterrupt",
     "evalue": "",
     "output_type": "error",
     "traceback": [
      "\u001b[0;31m---------------------------------------------------------------------------\u001b[0m",
      "\u001b[0;31mKeyboardInterrupt\u001b[0m                         Traceback (most recent call last)",
      "\u001b[0;32m<ipython-input-1-9fa05392fa55>\u001b[0m in \u001b[0;36m<module>\u001b[0;34m\u001b[0m\n\u001b[1;32m      1\u001b[0m \u001b[0;32mimport\u001b[0m \u001b[0micarus\u001b[0m\u001b[0;34m\u001b[0m\u001b[0;34m\u001b[0m\u001b[0m\n\u001b[0;32m----> 2\u001b[0;31m \u001b[0micarus\u001b[0m\u001b[0;34m.\u001b[0m\u001b[0mmain\u001b[0m\u001b[0;34m(\u001b[0m\u001b[0mmode\u001b[0m\u001b[0;34m=\u001b[0m\u001b[0;36m2\u001b[0m\u001b[0;34m)\u001b[0m\u001b[0;34m\u001b[0m\u001b[0;34m\u001b[0m\u001b[0m\n\u001b[0m",
      "\u001b[0;32m~/icarus/icarus.py\u001b[0m in \u001b[0;36mmain\u001b[0;34m(mode)\u001b[0m\n\u001b[1;32m    134\u001b[0m             \u001b[0melapsed\u001b[0m \u001b[0;34m=\u001b[0m \u001b[0mtime\u001b[0m\u001b[0;34m.\u001b[0m\u001b[0mtime\u001b[0m\u001b[0;34m(\u001b[0m\u001b[0;34m)\u001b[0m \u001b[0;34m-\u001b[0m \u001b[0mstart\u001b[0m \u001b[0;31m# compute elapsed time\u001b[0m\u001b[0;34m\u001b[0m\u001b[0;34m\u001b[0m\u001b[0m\n\u001b[1;32m    135\u001b[0m             \u001b[0;32mif\u001b[0m \u001b[0melapsed\u001b[0m \u001b[0;34m<\u001b[0m \u001b[0mincrement\u001b[0m\u001b[0;34m:\u001b[0m \u001b[0;31m# if increment not exceeded\u001b[0m\u001b[0;34m\u001b[0m\u001b[0;34m\u001b[0m\u001b[0m\n\u001b[0;32m--> 136\u001b[0;31m                 \u001b[0mtime\u001b[0m\u001b[0;34m.\u001b[0m\u001b[0msleep\u001b[0m\u001b[0;34m(\u001b[0m\u001b[0mincrement\u001b[0m \u001b[0;34m-\u001b[0m \u001b[0melapsed\u001b[0m\u001b[0;34m)\u001b[0m \u001b[0;31m# wait for increment\u001b[0m\u001b[0;34m\u001b[0m\u001b[0;34m\u001b[0m\u001b[0m\n\u001b[0m\u001b[1;32m    137\u001b[0m \u001b[0;34m\u001b[0m\u001b[0m\n\u001b[1;32m    138\u001b[0m \u001b[0;31m# main loop\u001b[0m\u001b[0;34m\u001b[0m\u001b[0;34m\u001b[0m\u001b[0;34m\u001b[0m\u001b[0m\n",
      "\u001b[0;31mKeyboardInterrupt\u001b[0m: "
     ]
    }
   ],
   "source": [
    "import icarus\n",
    "icarus.main(mode=2)"
   ]
  },
  {
   "cell_type": "code",
   "execution_count": null,
   "id": "04c07f7e",
   "metadata": {},
   "outputs": [],
   "source": []
  }
 ],
 "metadata": {
  "kernelspec": {
   "display_name": "Python 3",
   "language": "python",
   "name": "python3"
  },
  "language_info": {
   "codemirror_mode": {
    "name": "ipython",
    "version": 3
   },
   "file_extension": ".py",
   "mimetype": "text/x-python",
   "name": "python",
   "nbconvert_exporter": "python",
   "pygments_lexer": "ipython3",
   "version": "3.7.3"
  }
 },
 "nbformat": 4,
 "nbformat_minor": 5
}
